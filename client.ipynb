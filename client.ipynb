{
 "cells": [
  {
   "cell_type": "code",
   "execution_count": 4,
   "metadata": {},
   "outputs": [],
   "source": [
    "import socket\n",
    "import json\n",
    "\n",
    "\n",
    "host = \"localhost\"\n",
    "port = 8081\n",
    "\n",
    "def send_and_recieve(json_data):\n",
    "\n",
    "    client = socket.socket(socket.AF_INET, socket.SOCK_STREAM)\n",
    "    client.connect((host,port))\n",
    "    login_info = json_data\n",
    "    login_info = json.dumps(login_info)\n",
    "    try:\n",
    "        client.send(bytes(login_info, encoding=\"ascii\"))\n",
    "        response = client.recv(4096)\n",
    "        response = response.decode(\"ascii\")\n",
    "        response = json.loads(response)\n",
    "    except:\n",
    "        print(\"Server returned nothing or request was out of time\")\n",
    "        return \"\"\n",
    "    return response"
   ]
  },
  {
   "cell_type": "markdown",
   "metadata": {},
   "source": [
    "# Testing \"login\" and action validation"
   ]
  },
  {
   "cell_type": "code",
   "execution_count": 5,
   "metadata": {},
   "outputs": [],
   "source": [
    "assert send_and_recieve({\"malformed\": \"request\"}) == {'state': 'error', 'info': 'badRequest'} # request without fields \"name\", \"action\", \"actionSpecs\"\n",
    "assert send_and_recieve({'name': \"userNotLoggable\", \"action\": \"listRooms\", \"actionSpecs\": {}}) == {'state': 'error', 'info': 'userNotAllowedError'} # unauthorized user\n",
    "assert send_and_recieve({'name': \"riccardo\", \"action\": \"unknownAction\", \"actionSpecs\": {}}) == {\"state\": \"error\", \"info\": \"unknownAction\"} # authorized user but unknown action"
   ]
  },
  {
   "cell_type": "markdown",
   "metadata": {},
   "source": [
    "# testing room create / destroy"
   ]
  },
  {
   "cell_type": "code",
   "execution_count": 6,
   "metadata": {},
   "outputs": [],
   "source": [
    "assert send_and_recieve({'name': \"riccardo\", \"action\": \"createRoom\", \"actionSpecs\": {\"room\": \"room1\"}}) == {\"state\": \"ok\", \"info\": \"roomCreated\"}  # create room ok\n",
    "assert send_and_recieve({'name': \"alessandro\", \"action\": \"destroyRoom\", \"actionSpecs\": {\"room\": \"room1\"}}) == {\"state\": \"error\", \"info\": \"notAllowed\"} # other user cannot destroy room\n",
    "assert send_and_recieve({'name': \"riccardo\", \"action\": \"destroyRoom\", \"actionSpecs\": {\"room\": \"randomRoom\"}}) == {\"state\": \"error\", \"info\": \"notAllowed\"} # cannot destory non-existent room\n",
    "assert send_and_recieve({'name': \"riccardo\", \"action\": \"destroyRoom\", \"actionSpecs\": {\"room\": \"room1\"}}) == {\"state\": \"ok\", \"info\": \"roomDestroyed\"} # ok room destroyed\n",
    "assert send_and_recieve({'name': \"riccardo\", \"action\": \"destroyRoom\", \"actionSpecs\": {\"room\": \"room1\"}}) == {\"state\": \"error\", \"info\": \"notAllowed\"} # double destroy, impossible\n"
   ]
  },
  {
   "cell_type": "markdown",
   "metadata": {},
   "source": [
    "# testing room list"
   ]
  },
  {
   "cell_type": "code",
   "execution_count": 7,
   "metadata": {},
   "outputs": [],
   "source": [
    "assert send_and_recieve({'name': \"riccardo\", \"action\": \"listRooms\", \"actionSpecs\": {}}) == {\"state\": \"ok\", \"rooms\": \"[]\"}\n",
    "send_and_recieve({'name': \"riccardo\", \"action\": \"createRoom\", \"actionSpecs\": {\"room\": \"room1\"}})\n",
    "assert \"room1\" in send_and_recieve({'name': \"riccardo\", \"action\": \"listRooms\", \"actionSpecs\": {}})[\"rooms\"]\n",
    "send_and_recieve({'name': \"riccardo\", \"action\": \"createRoom\", \"actionSpecs\": {\"room\": \"room2\"}})\n",
    "assert \"room1\" in send_and_recieve({'name': \"riccardo\", \"action\": \"listRooms\", \"actionSpecs\": {}})[\"rooms\"]\n",
    "assert \"room2\" in send_and_recieve({'name': \"riccardo\", \"action\": \"listRooms\", \"actionSpecs\": {}})[\"rooms\"]\n",
    "send_and_recieve({'name': \"riccardo\", \"action\": \"destroyRoom\", \"actionSpecs\": {\"room\": \"room1\"}})\n",
    "assert \"room1\" not in send_and_recieve({'name': \"riccardo\", \"action\": \"listRooms\", \"actionSpecs\": {}})[\"rooms\"]\n",
    "assert \"room2\" in send_and_recieve({'name': \"riccardo\", \"action\": \"listRooms\", \"actionSpecs\": {}})[\"rooms\"]\n",
    "send_and_recieve({'name': \"riccardo\", \"action\": \"destroyRoom\", \"actionSpecs\": {\"room\": \"room2\"}})\n",
    "assert send_and_recieve({'name': \"riccardo\", \"action\": \"listRooms\", \"actionSpecs\": {}}) == {\"state\": \"ok\", \"rooms\": \"[]\"}"
   ]
  },
  {
   "cell_type": "markdown",
   "metadata": {},
   "source": [
    "# testing room join and chat"
   ]
  },
  {
   "cell_type": "code",
   "execution_count": 8,
   "metadata": {},
   "outputs": [],
   "source": [
    "send_and_recieve({'name': \"riccardo\", \"action\": \"createRoom\", \"actionSpecs\": {\"room\": \"room1\"}})\n",
    "assert send_and_recieve({'name': \"riccardo\", \"action\": \"joinRoom\", \"actionSpecs\": {\"room\": \"room1\"}}) == {'info': 'joinedRoom', 'state': 'ok'}\n",
    "assert send_and_recieve({'name': \"alessandro\", \"action\": \"joinRoom\", \"actionSpecs\": {\"room\": \"room1\"}}) == {'info': 'joinedRoom', 'state': 'ok'}\n",
    "assert send_and_recieve({'name': \"riccardo\", \"action\": \"sendMessage\", \"actionSpecs\": {\"room\": \"room1\", \"message\": \"ciao1\"}}) == {'info': 'messageSent', 'state': 'ok'}\n",
    "assert send_and_recieve({'name': \"riccardo\", \"action\": \"sendMessage\", \"actionSpecs\": {\"room\": \"room1\", \"message\": \"ciao2\"}}) == {'info': 'messageSent', 'state': 'ok'}\n",
    "assert send_and_recieve({'name': \"riccardo\", \"action\": \"sendMessage\", \"actionSpecs\": {\"room\": \"room1\", \"message\": \"ciao3\"}}) == {'info': 'messageSent', 'state': 'ok'}\n",
    "assert send_and_recieve({'name': \"alessandro\", \"action\": \"receiveMessage\", \"actionSpecs\": {\"room\": \"room1\"}}) == {'messages': ['ciao1', 'ciao2', 'ciao3'], 'state': 'ok'}\n",
    "assert send_and_recieve({'name': \"alessandro\", \"action\": \"leaveRoom\", \"actionSpecs\": {\"room\": \"room1\"}}) == {'info': \"leftRoom\", 'state': 'ok'}\n",
    "assert send_and_recieve({'name': \"alessandro\", \"action\": \"receiveMessage\", \"actionSpecs\": {\"room\": \"room1\"}}) == {'info': 'notInRoom', 'state': 'error'}"
   ]
  },
  {
   "cell_type": "markdown",
   "metadata": {},
   "source": [
    "# test private messages"
   ]
  },
  {
   "cell_type": "code",
   "execution_count": 9,
   "metadata": {},
   "outputs": [],
   "source": [
    "# testing private messages\n",
    "send_and_recieve({'name': \"riccardo\", \"action\": \"sendPrivateMessage\", \"actionSpecs\": {\"receiver\": \"alessandro\", \"message\": \"hello\"}})\n",
    "assert send_and_recieve({'name': \"alessandro\", \"action\": \"receivePrivateMessage\", \"actionSpecs\": {\"sender\": \"riccardo\"}}) == {'messages': ['hello'], 'state': 'ok'}\n",
    "send_and_recieve({'name': \"riccardo\", \"action\": \"sendPrivateMessage\", \"actionSpecs\": {\"receiver\": \"alessandro\", \"message\": \"how are you?\"}})\n",
    "assert send_and_recieve({'name': \"alessandro\", \"action\": \"receivePrivateMessage\", \"actionSpecs\": {\"sender\": \"riccardo\"}}) == {'messages': ['hello', 'how are you?'], 'state': 'ok'}\n",
    "send_and_recieve({'name': \"alessandro\", \"action\": \"sendPrivateMessage\", \"actionSpecs\": {\"receiver\": \"riccardo\", \"message\": \"I'm fine, thanks!\"}})\n",
    "assert send_and_recieve({'name': \"riccardo\", \"action\": \"receivePrivateMessage\", \"actionSpecs\": {\"sender\": \"alessandro\"}}) == {'messages': [\"I'm fine, thanks!\"], 'state': 'ok'}"
   ]
  },
  {
   "cell_type": "markdown",
   "metadata": {},
   "source": [
    "# test private rooms"
   ]
  },
  {
   "cell_type": "code",
   "execution_count": 10,
   "metadata": {},
   "outputs": [],
   "source": [
    "send_and_recieve({'name': \"riccardo\", \"action\": \"createRoom\", \"actionSpecs\": {\"room\": \"room2\", \"access\": \"private\"}}) # creating private room\n",
    "assert send_and_recieve({'name': \"riccardo\", \"action\": \"joinRoom\", \"actionSpecs\": {\"room\": \"room2\"}}) == {'info': 'joinedRoom', 'state': 'ok'} # join private room\n",
    "assert send_and_recieve({'name': \"alessandro\", \"action\": \"joinRoom\", \"actionSpecs\": {\"room\": \"room2\"}}) == {'info': 'roomNotFound', 'state': 'error'} # cannot join private room without invite\n",
    "assert send_and_recieve({'name': \"riccardo\", \"action\": \"inviteInRoom\", \"actionSpecs\": {\"room\": \"room2\", \"user\": \"alessandro\"}}) == {'info': 'inviteeJoinedRoom', 'state': 'ok'} # join via invite\n",
    "assert send_and_recieve({'name': \"alessandro\", \"action\": \"sendMessage\", \"actionSpecs\": {\"room\": \"room2\", \"message\": \"hello\"}}) == {'info': 'messageSent', 'state': 'ok'} # send message\n",
    "assert send_and_recieve({'name': \"riccardo\", \"action\": \"receiveMessage\", \"actionSpecs\": {\"room\": \"room2\"}}) == {'messages': ['hello'], 'state': 'ok'} # receive message"
   ]
  },
  {
   "cell_type": "code",
   "execution_count": null,
   "metadata": {},
   "outputs": [],
   "source": []
  }
 ],
 "metadata": {
  "kernelspec": {
   "display_name": "Python 3",
   "language": "python",
   "name": "python3"
  },
  "language_info": {
   "codemirror_mode": {
    "name": "ipython",
    "version": 3
   },
   "file_extension": ".py",
   "mimetype": "text/x-python",
   "name": "python",
   "nbconvert_exporter": "python",
   "pygments_lexer": "ipython3",
   "version": "3.10.11"
  }
 },
 "nbformat": 4,
 "nbformat_minor": 2
}
